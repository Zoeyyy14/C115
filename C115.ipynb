{
  "nbformat": 4,
  "nbformat_minor": 0,
  "metadata": {
    "colab": {
      "name": "C115.ipynb",
      "provenance": [],
      "authorship_tag": "ABX9TyM2rE/i/YY3nkcIPXVaKY/O",
      "include_colab_link": true
    },
    "kernelspec": {
      "name": "python3",
      "display_name": "Python 3"
    },
    "language_info": {
      "name": "python"
    }
  },
  "cells": [
    {
      "cell_type": "markdown",
      "metadata": {
        "id": "view-in-github",
        "colab_type": "text"
      },
      "source": [
        "<a href=\"https://colab.research.google.com/github/Zoeyyy14/C115/blob/main/C115.ipynb\" target=\"_parent\"><img src=\"https://colab.research.google.com/assets/colab-badge.svg\" alt=\"Open In Colab\"/></a>"
      ]
    },
    {
      "cell_type": "code",
      "metadata": {
        "colab": {
          "resources": {
            "http://localhost:8080/nbextensions/google.colab/files.js": {
              "data": "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",
              "ok": true,
              "headers": [
                [
                  "content-type",
                  "application/javascript"
                ]
              ],
              "status": 200,
              "status_text": ""
            }
          },
          "base_uri": "https://localhost:8080/",
          "height": 72
        },
        "id": "yDxkLcFr97LR",
        "outputId": "041a62df-93da-419e-d23b-1fb539843e4b"
      },
      "source": [
        "from google.colab import files\n",
        "uploaded=files.upload()"
      ],
      "execution_count": null,
      "outputs": [
        {
          "output_type": "display_data",
          "data": {
            "text/html": [
              "\n",
              "     <input type=\"file\" id=\"files-648ef8dc-ec24-41bc-bcf1-4f64fa1608b6\" name=\"files[]\" multiple disabled\n",
              "        style=\"border:none\" />\n",
              "     <output id=\"result-648ef8dc-ec24-41bc-bcf1-4f64fa1608b6\">\n",
              "      Upload widget is only available when the cell has been executed in the\n",
              "      current browser session. Please rerun this cell to enable.\n",
              "      </output>\n",
              "      <script src=\"/nbextensions/google.colab/files.js\"></script> "
            ],
            "text/plain": [
              "<IPython.core.display.HTML object>"
            ]
          },
          "metadata": {
            "tags": []
          }
        },
        {
          "output_type": "stream",
          "text": [
            "Saving C115.csv to C115.csv\n"
          ],
          "name": "stdout"
        }
      ]
    },
    {
      "cell_type": "code",
      "metadata": {
        "colab": {
          "base_uri": "https://localhost:8080/",
          "height": 542
        },
        "id": "B1IH8G9m-U4T",
        "outputId": "5008bb02-4cc9-4c47-ccd3-ce5b49dabe0d"
      },
      "source": [
        "import pandas as pd\n",
        "import plotly.express as px\n",
        "df=pd.read_csv(\"C115.csv\")\n",
        "score=df[\"Score\"].tolist()\n",
        "accepted=df[\"Accepted\"].tolist()\n",
        "fig=px.scatter(x=score, y=accepted)\n",
        "fig.show()"
      ],
      "execution_count": null,
      "outputs": [
        {
          "output_type": "display_data",
          "data": {
            "text/html": [
              "<html>\n",
              "<head><meta charset=\"utf-8\" /></head>\n",
              "<body>\n",
              "    <div>\n",
              "            <script src=\"https://cdnjs.cloudflare.com/ajax/libs/mathjax/2.7.5/MathJax.js?config=TeX-AMS-MML_SVG\"></script><script type=\"text/javascript\">if (window.MathJax) {MathJax.Hub.Config({SVG: {font: \"STIX-Web\"}});}</script>\n",
              "                <script type=\"text/javascript\">window.PlotlyConfig = {MathJaxConfig: 'local'};</script>\n",
              "        <script src=\"https://cdn.plot.ly/plotly-latest.min.js\"></script>    \n",
              "            <div id=\"f382b042-350f-4623-bc98-0a19e7c5ab47\" class=\"plotly-graph-div\" style=\"height:525px; width:100%;\"></div>\n",
              "            <script type=\"text/javascript\">\n",
              "                \n",
              "                    window.PLOTLYENV=window.PLOTLYENV || {};\n",
              "                    \n",
              "                if (document.getElementById(\"f382b042-350f-4623-bc98-0a19e7c5ab47\")) {\n",
              "                    Plotly.newPlot(\n",
              "                        'f382b042-350f-4623-bc98-0a19e7c5ab47',\n",
              "                        [{\"hoverlabel\": {\"namelength\": 0}, \"hovertemplate\": \"x=%{x}<br>y=%{y}\", \"legendgroup\": \"\", \"marker\": {\"color\": \"#636efa\", \"symbol\": \"circle\"}, \"mode\": \"markers\", \"name\": \"\", \"showlegend\": false, \"type\": \"scatter\", \"x\": [39.6, 46.3, 28.4, 46.4, 32.4, 62.5, 95.5, 58.0, 49.8, 31.7, 47.9, 67.2, 66.1, 38.3, 28.1, 77.7, 81.6, 3.5, 24.7, 23.6, 51.1, 99.3, 1.1, 99.9, 92.5, 58.6, 48.8, 84.8, 48.9, 36.4, 17.1, 26.9, 34.4, 57.1, 39.2, 62.4, 76.6, 51.3, 10.7, 52.4, 48.4, 88.4, 88.8, 35.3, 31.8, 80.8, 78.0, 77.1, 22.9, 79.9, 87.5, 13.1, 30.2, 31.8, 95.2, 99.3, 73.7, 58.6, 16.0, 2.7, 40.6, 11.5, 88.3, 24.5, 43.5, 83.4, 74.2, 44.9, 29.2, 2.3, 34.8, 96.1, 60.2, 61.4, 33.2, 67.1, 63.9, 17.1, 5.6, 40.7, 5.5, 44.6, 45.0, 54.9, 69.2, 94.1, 60.9, 67.8, 90.2, 39.2, 43.9, 44.0, 92.3, 69.2, 83.9, 38.5, 68.8, 6.5, 66.0, 44.8, 93.7, 81.0, 86.7, 60.5, 40.5, 82.6, 54.5, 79.1, 34.8, 41.8, 43.9, 23.6, 69.8, 51.1, 40.4, 82.1, 45.1, 84.6, 84.2, 85.6, 98.1, 55.7, 40.1, 3.8, 3.0, 21.8, 70.0, 79.5, 26.3, 54.1, 5.0, 53.8, 57.3, 76.7, 13.2, 28.7, 90.8, 90.1, 57.9, 88.4, 79.1, 78.7, 83.5, 45.2, 89.2, 70.0, 98.0, 52.1, 39.4, 49.1, 5.0, 50.0, 23.8, 84.1, 83.5, 16.8, 61.4, 95.0, 71.9, 13.2, 1.6, 64.6, 59.8, 31.6, 35.3, 3.3, 63.9, 22.5, 50.9, 0.8, 65.0, 0.1, 84.9, 4.8, 69.8, 97.6, 19.3, 33.6, 89.8, 80.6, 6.8, 42.7, 65.3, 22.2, 76.1, 50.1, 83.7, 11.6, 78.7, 79.3, 17.4, 25.9, 59.7, 39.6, 58.4, 53.3, 63.8, 78.0, 29.2, 17.4, 62.7, 99.9, 5.3, 27.8, 27.1, 46.7, 86.0, 87.1, 83.7, 78.9, 49.7, 73.3, 28.4, 78.0, 48.3, 13.4, 68.9, 53.1, 64.2, 80.1, 57.4, 19.6, 31.6, 47.1, 13.8, 68.9, 75.4, 73.1, 53.0, 63.8, 8.1, 4.2, 44.7, 69.0, 14.0, 99.9, 66.6, 40.2, 12.4, 43.0, 50.7, 37.9, 37.4, 92.1, 33.4, 52.5, 5.8, 2.3, 4.1, 78.0, 15.6, 77.4, 87.0, 69.7, 14.1, 60.5, 68.4, 56.2, 55.3, 62.6, 25.1, 75.8, 50.4, 8.3, 91.5, 23.7, 70.2, 51.8, 92.7, 6.9, 86.4, 37.3, 44.6, 4.1, 78.9, 65.4, 86.4, 12.0, 4.3, 53.1, 40.6, 15.2, 63.6, 51.1, 72.3, 31.7, 78.5, 76.9, 10.9, 47.4, 85.0, 15.4, 93.4, 98.9, 89.8, 42.6, 87.6, 13.9, 29.9, 29.6, 81.7, 98.0, 74.8, 75.9, 57.1, 5.8, 22.4, 1.0, 58.2, 34.2, 17.0, 79.2, 10.2, 82.7, 13.2, 27.6, 72.2, 87.5, 30.0, 32.0, 3.1, 15.7, 98.2, 61.6, 31.8, 10.0, 65.8, 37.3, 92.7, 74.1, 57.7, 75.6, 1.7, 16.1, 94.4, 8.6, 11.8, 72.3, 11.8, 26.7, 88.7, 98.8, 48.9, 77.7, 34.6, 78.0, 41.3, 42.8, 58.4, 79.4, 69.1, 48.9, 92.1, 54.1, 9.4, 83.8, 37.6, 92.6, 68.9, 37.2, 75.1, 61.3, 23.7, 75.1, 65.1, 44.5, 45.9, 71.1, 88.0, 82.3, 12.6, 18.9, 14.4, 14.6, 93.1, 30.0, 29.8, 61.1, 34.2, 10.8, 61.4, 89.4, 6.0, 67.7, 39.2, 44.0, 66.3, 52.8, 87.7, 15.0, 97.7, 79.8, 47.0, 13.0, 5.4, 67.3, 65.4, 15.7, 27.8, 26.4, 29.3, 21.1, 36.9, 31.9, 23.6, 0.1, 30.8, 80.2, 94.0, 76.1, 75.1, 66.7, 60.9, 5.7, 9.5, 32.4, 60.3, 33.2, 14.0, 3.8, 39.8, 28.9, 76.3, 11.4, 89.6, 62.8, 44.7, 41.0, 61.4, 18.9, 99.3, 54.1, 67.1, 54.5, 96.2, 24.2, 56.0, 54.5, 60.2, 88.8, 1.4, 15.2, 71.2, 26.5, 10.3, 30.8, 22.2, 96.3, 42.0, 21.9, 76.5, 26.3, 56.0, 43.8, 31.3, 52.3, 90.7, 1.4, 58.0, 25.1, 50.9, 66.5, 66.1, 19.1, 23.0, 33.8, 47.8, 28.0, 21.5, 53.9, 80.9, 2.4, 50.4, 49.1, 0.4, 46.2, 62.7, 90.7, 67.9, 79.1, 15.3, 91.4, 32.5, 71.5, 30.2, 42.7, 10.1, 68.0, 41.3, 7.1, 27.3, 39.8, 74.4, 31.3, 8.2, 16.7, 59.5, 85.3, 16.1, 35.9, 92.1, 62.5, 23.9, 46.9, 38.7, 94.0, 99.7, 17.7, 15.1, 59.5, 18.9, 25.3, 74.7, 38.5, 34.6, 98.8, 90.6, 40.9, 13.9, 35.7, 82.3, 86.9, 84.9, 76.4, 92.8, 77.3, 47.1, 12.2, 55.3, 8.6, 15.8, 93.9, 60.5, 22.6, 47.5, 40.3, 74.6, 97.6, 72.4, 20.8, 38.6, 79.0, 52.7, 76.1, 68.3, 69.4, 53.5, 99.2, 69.1, 92.0, 73.2, 9.2, 98.6, 14.9, 26.5, 22.1, 3.7, 8.4, 12.6, 16.7, 90.9, 42.9, 22.1, 49.9, 54.0, 78.9, 60.8, 26.9, 90.9, 86.2, 11.3, 61.1, 21.4, 48.2, 87.3, 71.7, 38.6, 13.3, 26.2, 37.9, 78.4, 69.2, 50.6, 52.4, 40.7, 51.8, 85.7, 76.0, 11.7, 76.5, 64.2, 42.3, 47.4, 33.1, 83.5, 89.8, 58.6, 13.8, 88.0, 55.0, 79.9, 51.5, 19.5, 1.3, 53.5, 78.8, 87.0, 79.4, 90.6, 47.3, 99.0, 82.5, 14.8, 13.5, 98.8, 63.3, 68.0, 30.9, 62.0, 71.8, 39.1, 52.6, 82.4, 37.3, 79.4, 44.2, 4.9, 90.8, 58.3, 87.2, 11.2, 16.9, 74.8, 28.4, 80.9, 32.6, 48.3, 47.7, 33.8, 32.0, 15.7, 23.6, 87.7, 49.7, 6.5, 3.1, 96.2, 28.1, 98.1, 18.6, 17.9, 73.9, 84.2, 30.0, 47.3, 41.7, 69.0, 40.2, 57.3, 43.4, 13.6, 59.5, 53.3, 2.8, 83.6, 77.1, 46.2, 16.2, 93.6, 30.3, 17.3, 56.8, 32.3, 91.0, 25.5, 8.1, 80.0, 97.4, 30.7, 86.0, 74.0, 88.7, 72.9, 67.8, 96.9, 76.2, 57.5, 46.2, 20.8, 83.4, 88.6, 95.5, 5.1, 32.9, 66.1, 76.6, 51.4, 88.9, 59.5, 62.7, 67.8, 26.6, 32.2, 76.6, 92.1, 70.9, 7.0, 10.2, 5.6, 24.2, 60.7, 23.4, 19.2, 51.3, 83.9, 94.7, 43.8, 26.2, 91.9, 81.1, 18.2, 83.6, 9.2, 22.8, 79.1, 55.7, 84.9, 8.6, 84.8, 51.5, 60.9, 45.1, 33.2, 45.7, 92.4, 91.7, 58.7, 51.6, 97.3, 62.0, 34.2, 7.5, 8.5, 53.7, 40.2, 24.8, 26.8, 2.5, 57.6, 4.4, 49.4, 47.0, 64.5, 29.9, 73.0, 26.2, 10.3, 96.4, 30.5, 63.2, 84.7, 12.9, 49.1, 97.3, 81.8, 25.4, 59.0, 79.2, 15.0, 7.1, 79.9, 86.1, 32.8, 12.6, 11.5, 74.1, 47.8, 0.2, 49.7, 77.4, 75.0, 76.1, 76.7, 55.0, 71.8, 45.5, 92.3, 60.1, 12.7, 68.5, 81.3, 19.9, 63.9, 59.5, 42.5, 90.5, 69.4, 80.8, 30.2, 21.6, 54.2, 13.0, 71.1, 9.4, 22.1, 9.8, 17.7, 87.9, 27.8, 79.3, 83.6, 83.9, 16.0, 43.2, 57.2, 48.3, 29.3, 71.2, 32.2, 14.4, 13.9, 85.6, 68.1, 40.6, 86.0, 34.8, 59.8, 21.3, 34.8, 35.9, 93.1, 82.4, 8.0, 35.2, 80.5, 0.3, 31.8, 76.6, 70.2, 66.0, 63.3, 78.2, 68.6, 58.7, 70.2, 46.5, 70.5, 62.9, 68.2, 72.4, 42.8, 53.5, 90.4, 45.2, 0.5, 30.6, 37.3, 80.1, 53.6, 62.7, 26.4, 43.6, 49.1, 49.6, 82.1, 73.3, 65.0, 54.7, 81.6, 21.7, 61.5, 30.7, 37.7, 7.4, 48.6, 20.7, 98.9, 72.4, 20.4, 16.7, 53.9, 96.7, 59.1, 95.7, 62.5, 32.9, 32.3, 15.3, 46.0, 89.1, 38.8, 68.0, 20.0, 28.3, 47.4, 51.9, 24.5, 39.3, 68.9, 31.7, 59.2, 1.6, 8.4, 42.8, 52.2, 87.5, 99.5, 78.3, 60.7, 62.6, 60.4, 6.6, 58.6, 88.4, 98.9, 45.8, 44.1, 61.0, 5.0, 84.2, 54.8, 12.5, 92.9, 45.1, 40.7, 24.4, 56.1, 50.8, 18.3, 35.2, 73.1, 57.4, 69.0, 69.9, 23.1, 81.8, 40.1, 30.2, 40.0, 42.9, 56.5, 55.3, 39.0, 74.3, 35.0, 13.8, 30.4, 49.2, 30.1, 18.7, 31.0, 9.0, 83.7, 67.7, 62.4, 29.8, 89.1, 54.7, 66.3, 80.7, 10.5, 43.6, 76.3, 69.7, 14.3, 24.0, 88.8, 98.4, 94.8, 52.4, 37.5, 21.4, 42.9, 11.1, 57.3, 92.8, 70.5, 80.5, 11.6, 39.5, 30.2, 8.3, 93.9, 15.9, 32.4, 71.9, 40.2, 99.6, 7.5, 34.6, 71.3, 1.5, 91.9, 30.3, 64.4, 68.0, 52.5, 34.3, 23.2, 65.0], \"xaxis\": \"x\", \"y\": [0, 0, 0, 0, 0, 0, 1, 0, 0, 0, 0, 0, 0, 0, 0, 0, 0, 0, 0, 0, 0, 1, 0, 1, 1, 0, 0, 1, 0, 0, 0, 0, 0, 0, 0, 0, 0, 0, 0, 0, 0, 1, 1, 0, 0, 0, 0, 0, 0, 0, 1, 0, 0, 0, 1, 1, 0, 0, 0, 0, 0, 0, 1, 0, 0, 1, 0, 0, 0, 0, 0, 1, 0, 0, 0, 0, 0, 0, 0, 0, 0, 0, 0, 0, 0, 1, 0, 0, 1, 0, 0, 0, 1, 0, 1, 0, 0, 0, 0, 0, 1, 0, 1, 0, 0, 0, 0, 0, 0, 0, 0, 0, 0, 0, 0, 0, 0, 1, 1, 1, 1, 0, 0, 0, 0, 0, 0, 0, 0, 0, 0, 0, 0, 0, 0, 0, 1, 1, 0, 1, 0, 0, 1, 0, 1, 0, 1, 0, 0, 0, 0, 0, 0, 1, 1, 0, 0, 1, 0, 0, 0, 0, 0, 0, 0, 0, 0, 0, 0, 0, 0, 0, 1, 0, 0, 1, 0, 0, 1, 0, 0, 0, 0, 0, 0, 0, 1, 0, 0, 0, 0, 0, 0, 0, 0, 0, 0, 0, 0, 0, 0, 1, 0, 0, 0, 0, 1, 1, 1, 0, 0, 0, 0, 0, 0, 0, 0, 0, 0, 0, 0, 0, 0, 0, 0, 0, 0, 0, 0, 0, 0, 0, 0, 0, 0, 1, 0, 0, 0, 0, 0, 0, 0, 1, 0, 0, 0, 0, 0, 0, 0, 0, 1, 0, 0, 0, 0, 0, 0, 0, 0, 0, 0, 0, 1, 0, 0, 0, 1, 0, 1, 0, 0, 0, 0, 0, 1, 0, 0, 0, 0, 0, 0, 0, 0, 0, 0, 0, 0, 0, 1, 0, 1, 1, 1, 0, 1, 0, 0, 0, 0, 1, 0, 0, 0, 0, 0, 0, 0, 0, 0, 0, 0, 0, 0, 0, 0, 1, 0, 0, 0, 0, 1, 0, 0, 0, 0, 0, 1, 0, 0, 0, 0, 0, 1, 0, 0, 0, 0, 0, 1, 1, 0, 0, 0, 0, 0, 0, 0, 0, 0, 0, 1, 0, 0, 1, 0, 1, 0, 0, 0, 0, 0, 0, 0, 0, 0, 0, 1, 0, 0, 0, 0, 0, 1, 0, 0, 0, 0, 0, 0, 1, 0, 0, 0, 0, 0, 0, 1, 0, 1, 0, 0, 0, 0, 0, 0, 0, 0, 0, 0, 0, 0, 0, 0, 0, 0, 0, 1, 0, 0, 0, 0, 0, 0, 0, 0, 0, 0, 0, 0, 0, 0, 0, 1, 0, 0, 0, 0, 0, 1, 0, 0, 0, 1, 0, 0, 0, 0, 1, 0, 0, 0, 0, 0, 0, 0, 1, 0, 0, 0, 0, 0, 0, 0, 0, 1, 0, 0, 0, 0, 0, 0, 0, 0, 0, 0, 0, 0, 0, 0, 0, 0, 0, 0, 0, 0, 1, 0, 0, 0, 1, 0, 0, 0, 0, 0, 0, 0, 0, 0, 0, 0, 0, 0, 0, 0, 1, 0, 0, 1, 0, 0, 0, 0, 1, 1, 0, 0, 0, 0, 0, 0, 0, 0, 1, 1, 0, 0, 0, 0, 1, 1, 0, 1, 0, 0, 0, 0, 0, 0, 1, 0, 0, 0, 0, 0, 1, 0, 0, 0, 0, 0, 0, 0, 0, 0, 1, 0, 1, 0, 0, 1, 0, 0, 0, 0, 0, 0, 0, 1, 0, 0, 0, 0, 0, 0, 0, 1, 1, 0, 0, 0, 0, 1, 0, 0, 0, 0, 0, 0, 0, 0, 0, 0, 0, 1, 0, 0, 0, 0, 0, 0, 0, 1, 1, 0, 0, 1, 0, 0, 0, 0, 0, 0, 0, 1, 0, 1, 0, 1, 0, 0, 0, 1, 0, 0, 0, 0, 0, 0, 0, 0, 0, 0, 0, 0, 1, 0, 1, 0, 0, 0, 0, 0, 0, 0, 0, 0, 0, 0, 0, 1, 0, 0, 0, 1, 0, 1, 0, 0, 0, 1, 0, 0, 0, 0, 0, 0, 0, 0, 0, 0, 0, 1, 0, 0, 0, 1, 0, 0, 0, 0, 1, 0, 0, 0, 1, 0, 1, 0, 1, 0, 0, 1, 0, 0, 0, 0, 1, 1, 1, 0, 0, 0, 0, 0, 1, 0, 0, 0, 0, 0, 0, 1, 0, 0, 0, 0, 0, 0, 0, 0, 0, 1, 1, 0, 0, 1, 0, 0, 1, 0, 0, 0, 0, 1, 0, 1, 0, 0, 0, 0, 0, 1, 1, 0, 0, 1, 0, 0, 0, 0, 0, 0, 0, 0, 0, 0, 0, 0, 0, 0, 0, 0, 0, 0, 1, 0, 0, 1, 0, 0, 1, 0, 0, 0, 0, 0, 0, 0, 1, 0, 0, 0, 0, 0, 0, 0, 0, 0, 0, 0, 0, 0, 0, 1, 0, 0, 0, 0, 0, 0, 0, 0, 1, 0, 0, 0, 0, 0, 0, 0, 0, 0, 0, 0, 1, 0, 0, 1, 1, 0, 0, 0, 0, 0, 0, 0, 0, 0, 1, 0, 0, 1, 0, 0, 0, 0, 0, 1, 0, 0, 0, 0, 0, 0, 0, 0, 0, 0, 0, 0, 0, 0, 0, 0, 0, 0, 0, 0, 0, 1, 0, 0, 0, 0, 0, 0, 0, 0, 0, 0, 0, 0, 0, 0, 0, 0, 0, 0, 0, 0, 0, 0, 0, 1, 0, 0, 0, 0, 1, 0, 1, 0, 0, 0, 0, 0, 1, 0, 0, 0, 0, 0, 0, 0, 0, 0, 0, 0, 0, 0, 0, 0, 1, 1, 0, 0, 0, 0, 0, 0, 1, 1, 0, 0, 0, 0, 1, 0, 0, 1, 0, 0, 0, 0, 0, 0, 0, 0, 0, 0, 0, 0, 0, 0, 0, 0, 0, 0, 0, 0, 0, 0, 0, 0, 0, 0, 0, 0, 0, 1, 0, 0, 0, 1, 0, 0, 0, 0, 0, 0, 0, 0, 0, 1, 1, 1, 0, 0, 0, 0, 0, 0, 1, 0, 0, 0, 0, 0, 0, 1, 0, 0, 0, 0, 1, 0, 0, 0, 0, 1, 0, 0, 0, 0, 0, 0, 0], \"yaxis\": \"y\"}],\n",
              "                        {\"legend\": {\"tracegroupgap\": 0}, \"margin\": {\"t\": 60}, \"template\": {\"data\": {\"bar\": [{\"error_x\": {\"color\": \"#2a3f5f\"}, \"error_y\": {\"color\": \"#2a3f5f\"}, \"marker\": {\"line\": {\"color\": \"#E5ECF6\", \"width\": 0.5}}, \"type\": \"bar\"}], \"barpolar\": [{\"marker\": {\"line\": {\"color\": \"#E5ECF6\", \"width\": 0.5}}, \"type\": \"barpolar\"}], \"carpet\": [{\"aaxis\": {\"endlinecolor\": \"#2a3f5f\", \"gridcolor\": \"white\", \"linecolor\": \"white\", \"minorgridcolor\": \"white\", \"startlinecolor\": \"#2a3f5f\"}, \"baxis\": {\"endlinecolor\": \"#2a3f5f\", \"gridcolor\": \"white\", \"linecolor\": \"white\", \"minorgridcolor\": \"white\", \"startlinecolor\": \"#2a3f5f\"}, \"type\": \"carpet\"}], \"choropleth\": [{\"colorbar\": {\"outlinewidth\": 0, \"ticks\": \"\"}, \"type\": \"choropleth\"}], \"contour\": [{\"colorbar\": {\"outlinewidth\": 0, \"ticks\": \"\"}, \"colorscale\": [[0.0, \"#0d0887\"], [0.1111111111111111, \"#46039f\"], [0.2222222222222222, \"#7201a8\"], [0.3333333333333333, \"#9c179e\"], [0.4444444444444444, \"#bd3786\"], [0.5555555555555556, \"#d8576b\"], [0.6666666666666666, \"#ed7953\"], [0.7777777777777778, \"#fb9f3a\"], [0.8888888888888888, \"#fdca26\"], [1.0, \"#f0f921\"]], \"type\": \"contour\"}], \"contourcarpet\": [{\"colorbar\": {\"outlinewidth\": 0, \"ticks\": \"\"}, \"type\": \"contourcarpet\"}], \"heatmap\": [{\"colorbar\": {\"outlinewidth\": 0, \"ticks\": \"\"}, \"colorscale\": [[0.0, \"#0d0887\"], [0.1111111111111111, \"#46039f\"], [0.2222222222222222, \"#7201a8\"], [0.3333333333333333, \"#9c179e\"], [0.4444444444444444, \"#bd3786\"], [0.5555555555555556, \"#d8576b\"], [0.6666666666666666, \"#ed7953\"], [0.7777777777777778, \"#fb9f3a\"], [0.8888888888888888, \"#fdca26\"], [1.0, \"#f0f921\"]], \"type\": \"heatmap\"}], \"heatmapgl\": [{\"colorbar\": {\"outlinewidth\": 0, \"ticks\": \"\"}, \"colorscale\": [[0.0, \"#0d0887\"], [0.1111111111111111, \"#46039f\"], [0.2222222222222222, \"#7201a8\"], [0.3333333333333333, \"#9c179e\"], [0.4444444444444444, \"#bd3786\"], [0.5555555555555556, \"#d8576b\"], [0.6666666666666666, \"#ed7953\"], [0.7777777777777778, \"#fb9f3a\"], [0.8888888888888888, \"#fdca26\"], [1.0, \"#f0f921\"]], \"type\": \"heatmapgl\"}], \"histogram\": [{\"marker\": {\"colorbar\": {\"outlinewidth\": 0, \"ticks\": \"\"}}, \"type\": \"histogram\"}], \"histogram2d\": [{\"colorbar\": {\"outlinewidth\": 0, \"ticks\": \"\"}, \"colorscale\": [[0.0, \"#0d0887\"], [0.1111111111111111, \"#46039f\"], [0.2222222222222222, \"#7201a8\"], [0.3333333333333333, \"#9c179e\"], [0.4444444444444444, \"#bd3786\"], [0.5555555555555556, \"#d8576b\"], [0.6666666666666666, \"#ed7953\"], [0.7777777777777778, \"#fb9f3a\"], [0.8888888888888888, \"#fdca26\"], [1.0, \"#f0f921\"]], \"type\": \"histogram2d\"}], \"histogram2dcontour\": [{\"colorbar\": {\"outlinewidth\": 0, \"ticks\": \"\"}, \"colorscale\": [[0.0, \"#0d0887\"], [0.1111111111111111, \"#46039f\"], [0.2222222222222222, \"#7201a8\"], [0.3333333333333333, \"#9c179e\"], [0.4444444444444444, \"#bd3786\"], [0.5555555555555556, \"#d8576b\"], [0.6666666666666666, \"#ed7953\"], [0.7777777777777778, \"#fb9f3a\"], [0.8888888888888888, \"#fdca26\"], [1.0, \"#f0f921\"]], \"type\": \"histogram2dcontour\"}], \"mesh3d\": [{\"colorbar\": {\"outlinewidth\": 0, \"ticks\": \"\"}, \"type\": \"mesh3d\"}], \"parcoords\": [{\"line\": {\"colorbar\": {\"outlinewidth\": 0, \"ticks\": \"\"}}, \"type\": \"parcoords\"}], \"pie\": [{\"automargin\": true, \"type\": \"pie\"}], \"scatter\": [{\"marker\": {\"colorbar\": {\"outlinewidth\": 0, \"ticks\": \"\"}}, \"type\": \"scatter\"}], \"scatter3d\": [{\"line\": {\"colorbar\": {\"outlinewidth\": 0, \"ticks\": \"\"}}, \"marker\": {\"colorbar\": {\"outlinewidth\": 0, \"ticks\": \"\"}}, \"type\": \"scatter3d\"}], \"scattercarpet\": [{\"marker\": {\"colorbar\": {\"outlinewidth\": 0, \"ticks\": \"\"}}, \"type\": \"scattercarpet\"}], \"scattergeo\": [{\"marker\": {\"colorbar\": {\"outlinewidth\": 0, \"ticks\": \"\"}}, \"type\": \"scattergeo\"}], \"scattergl\": [{\"marker\": {\"colorbar\": {\"outlinewidth\": 0, \"ticks\": \"\"}}, \"type\": \"scattergl\"}], \"scattermapbox\": [{\"marker\": {\"colorbar\": {\"outlinewidth\": 0, \"ticks\": \"\"}}, \"type\": \"scattermapbox\"}], \"scatterpolar\": [{\"marker\": {\"colorbar\": {\"outlinewidth\": 0, \"ticks\": \"\"}}, \"type\": \"scatterpolar\"}], \"scatterpolargl\": [{\"marker\": {\"colorbar\": {\"outlinewidth\": 0, \"ticks\": \"\"}}, \"type\": \"scatterpolargl\"}], \"scatterternary\": [{\"marker\": {\"colorbar\": {\"outlinewidth\": 0, \"ticks\": \"\"}}, \"type\": \"scatterternary\"}], \"surface\": [{\"colorbar\": {\"outlinewidth\": 0, \"ticks\": \"\"}, \"colorscale\": [[0.0, \"#0d0887\"], [0.1111111111111111, \"#46039f\"], [0.2222222222222222, \"#7201a8\"], [0.3333333333333333, \"#9c179e\"], [0.4444444444444444, \"#bd3786\"], [0.5555555555555556, \"#d8576b\"], [0.6666666666666666, \"#ed7953\"], [0.7777777777777778, \"#fb9f3a\"], [0.8888888888888888, \"#fdca26\"], [1.0, \"#f0f921\"]], \"type\": \"surface\"}], \"table\": [{\"cells\": {\"fill\": {\"color\": \"#EBF0F8\"}, \"line\": {\"color\": \"white\"}}, \"header\": {\"fill\": {\"color\": \"#C8D4E3\"}, \"line\": {\"color\": \"white\"}}, \"type\": \"table\"}]}, \"layout\": {\"annotationdefaults\": {\"arrowcolor\": \"#2a3f5f\", \"arrowhead\": 0, \"arrowwidth\": 1}, \"coloraxis\": {\"colorbar\": {\"outlinewidth\": 0, \"ticks\": \"\"}}, \"colorscale\": {\"diverging\": [[0, \"#8e0152\"], [0.1, \"#c51b7d\"], [0.2, \"#de77ae\"], [0.3, \"#f1b6da\"], [0.4, \"#fde0ef\"], [0.5, \"#f7f7f7\"], [0.6, \"#e6f5d0\"], [0.7, \"#b8e186\"], [0.8, \"#7fbc41\"], [0.9, \"#4d9221\"], [1, \"#276419\"]], \"sequential\": [[0.0, \"#0d0887\"], [0.1111111111111111, \"#46039f\"], [0.2222222222222222, \"#7201a8\"], [0.3333333333333333, \"#9c179e\"], [0.4444444444444444, \"#bd3786\"], [0.5555555555555556, \"#d8576b\"], [0.6666666666666666, \"#ed7953\"], [0.7777777777777778, \"#fb9f3a\"], [0.8888888888888888, \"#fdca26\"], [1.0, \"#f0f921\"]], \"sequentialminus\": [[0.0, \"#0d0887\"], [0.1111111111111111, \"#46039f\"], [0.2222222222222222, \"#7201a8\"], [0.3333333333333333, \"#9c179e\"], [0.4444444444444444, \"#bd3786\"], [0.5555555555555556, \"#d8576b\"], [0.6666666666666666, \"#ed7953\"], [0.7777777777777778, \"#fb9f3a\"], [0.8888888888888888, \"#fdca26\"], [1.0, \"#f0f921\"]]}, \"colorway\": [\"#636efa\", \"#EF553B\", \"#00cc96\", \"#ab63fa\", \"#FFA15A\", \"#19d3f3\", \"#FF6692\", \"#B6E880\", \"#FF97FF\", \"#FECB52\"], \"font\": {\"color\": \"#2a3f5f\"}, \"geo\": {\"bgcolor\": \"white\", \"lakecolor\": \"white\", \"landcolor\": \"#E5ECF6\", \"showlakes\": true, \"showland\": true, \"subunitcolor\": \"white\"}, \"hoverlabel\": {\"align\": \"left\"}, \"hovermode\": \"closest\", \"mapbox\": {\"style\": \"light\"}, \"paper_bgcolor\": \"white\", \"plot_bgcolor\": \"#E5ECF6\", \"polar\": {\"angularaxis\": {\"gridcolor\": \"white\", \"linecolor\": \"white\", \"ticks\": \"\"}, \"bgcolor\": \"#E5ECF6\", \"radialaxis\": {\"gridcolor\": \"white\", \"linecolor\": \"white\", \"ticks\": \"\"}}, \"scene\": {\"xaxis\": {\"backgroundcolor\": \"#E5ECF6\", \"gridcolor\": \"white\", \"gridwidth\": 2, \"linecolor\": \"white\", \"showbackground\": true, \"ticks\": \"\", \"zerolinecolor\": \"white\"}, \"yaxis\": {\"backgroundcolor\": \"#E5ECF6\", \"gridcolor\": \"white\", \"gridwidth\": 2, \"linecolor\": \"white\", \"showbackground\": true, \"ticks\": \"\", \"zerolinecolor\": \"white\"}, \"zaxis\": {\"backgroundcolor\": \"#E5ECF6\", \"gridcolor\": \"white\", \"gridwidth\": 2, \"linecolor\": \"white\", \"showbackground\": true, \"ticks\": \"\", \"zerolinecolor\": \"white\"}}, \"shapedefaults\": {\"line\": {\"color\": \"#2a3f5f\"}}, \"ternary\": {\"aaxis\": {\"gridcolor\": \"white\", \"linecolor\": \"white\", \"ticks\": \"\"}, \"baxis\": {\"gridcolor\": \"white\", \"linecolor\": \"white\", \"ticks\": \"\"}, \"bgcolor\": \"#E5ECF6\", \"caxis\": {\"gridcolor\": \"white\", \"linecolor\": \"white\", \"ticks\": \"\"}}, \"title\": {\"x\": 0.05}, \"xaxis\": {\"automargin\": true, \"gridcolor\": \"white\", \"linecolor\": \"white\", \"ticks\": \"\", \"title\": {\"standoff\": 15}, \"zerolinecolor\": \"white\", \"zerolinewidth\": 2}, \"yaxis\": {\"automargin\": true, \"gridcolor\": \"white\", \"linecolor\": \"white\", \"ticks\": \"\", \"title\": {\"standoff\": 15}, \"zerolinecolor\": \"white\", \"zerolinewidth\": 2}}}, \"xaxis\": {\"anchor\": \"y\", \"domain\": [0.0, 1.0], \"title\": {\"text\": \"x\"}}, \"yaxis\": {\"anchor\": \"x\", \"domain\": [0.0, 1.0], \"title\": {\"text\": \"y\"}}},\n",
              "                        {\"responsive\": true}\n",
              "                    ).then(function(){\n",
              "                            \n",
              "var gd = document.getElementById('f382b042-350f-4623-bc98-0a19e7c5ab47');\n",
              "var x = new MutationObserver(function (mutations, observer) {{\n",
              "        var display = window.getComputedStyle(gd).display;\n",
              "        if (!display || display === 'none') {{\n",
              "            console.log([gd, 'removed!']);\n",
              "            Plotly.purge(gd);\n",
              "            observer.disconnect();\n",
              "        }}\n",
              "}});\n",
              "\n",
              "// Listen for the removal of the full notebook cells\n",
              "var notebookContainer = gd.closest('#notebook-container');\n",
              "if (notebookContainer) {{\n",
              "    x.observe(notebookContainer, {childList: true});\n",
              "}}\n",
              "\n",
              "// Listen for the clearing of the current output cell\n",
              "var outputEl = gd.closest('.output');\n",
              "if (outputEl) {{\n",
              "    x.observe(outputEl, {childList: true});\n",
              "}}\n",
              "\n",
              "                        })\n",
              "                };\n",
              "                \n",
              "            </script>\n",
              "        </div>\n",
              "</body>\n",
              "</html>"
            ]
          },
          "metadata": {
            "tags": []
          }
        }
      ]
    },
    {
      "cell_type": "code",
      "metadata": {
        "colab": {
          "base_uri": "https://localhost:8080/",
          "height": 542
        },
        "id": "Dvlp5L-C_UCT",
        "outputId": "43785e79-f46f-4258-d4d5-fd1dc06ad0ea"
      },
      "source": [
        "import numpy as np\n",
        "score_array=np.array(score)\n",
        "accepted_array=np.array(accepted)\n",
        "m,c=np.polyfit(score_array,accepted_array,1)\n",
        "y=[]\n",
        "for x in score_array:\n",
        "  y_value=m*x+c\n",
        "  y.append(y_value)\n",
        "fig=px.scatter(x=score_array,y=accepted_array)\n",
        "fig.update_layout(shapes=[ \n",
        "                          dict(\n",
        "                              type=\"line\",\n",
        "                               x0=min(score_array),\n",
        "                               x1=max(score_array),\n",
        "                               y0=min(y),\n",
        "                               y1=max(y)\n",
        "                          )\n",
        "])\n",
        "fig.show()"
      ],
      "execution_count": null,
      "outputs": [
        {
          "output_type": "display_data",
          "data": {
            "text/html": [
              "<html>\n",
              "<head><meta charset=\"utf-8\" /></head>\n",
              "<body>\n",
              "    <div>\n",
              "            <script src=\"https://cdnjs.cloudflare.com/ajax/libs/mathjax/2.7.5/MathJax.js?config=TeX-AMS-MML_SVG\"></script><script type=\"text/javascript\">if (window.MathJax) {MathJax.Hub.Config({SVG: {font: \"STIX-Web\"}});}</script>\n",
              "                <script type=\"text/javascript\">window.PlotlyConfig = {MathJaxConfig: 'local'};</script>\n",
              "        <script src=\"https://cdn.plot.ly/plotly-latest.min.js\"></script>    \n",
              "            <div id=\"db9706f3-e7bf-486d-a9aa-e454c661de72\" class=\"plotly-graph-div\" style=\"height:525px; width:100%;\"></div>\n",
              "            <script type=\"text/javascript\">\n",
              "                \n",
              "                    window.PLOTLYENV=window.PLOTLYENV || {};\n",
              "                    \n",
              "                if (document.getElementById(\"db9706f3-e7bf-486d-a9aa-e454c661de72\")) {\n",
              "                    Plotly.newPlot(\n",
              "                        'db9706f3-e7bf-486d-a9aa-e454c661de72',\n",
              "                        [{\"hoverlabel\": {\"namelength\": 0}, \"hovertemplate\": \"x=%{x}<br>y=%{y}\", \"legendgroup\": \"\", \"marker\": {\"color\": \"#636efa\", \"symbol\": \"circle\"}, \"mode\": \"markers\", \"name\": \"\", \"showlegend\": false, \"type\": \"scatter\", \"x\": [39.6, 46.3, 28.4, 46.4, 32.4, 62.5, 95.5, 58.0, 49.8, 31.7, 47.9, 67.2, 66.1, 38.3, 28.1, 77.7, 81.6, 3.5, 24.7, 23.6, 51.1, 99.3, 1.1, 99.9, 92.5, 58.6, 48.8, 84.8, 48.9, 36.4, 17.1, 26.9, 34.4, 57.1, 39.2, 62.4, 76.6, 51.3, 10.7, 52.4, 48.4, 88.4, 88.8, 35.3, 31.8, 80.8, 78.0, 77.1, 22.9, 79.9, 87.5, 13.1, 30.2, 31.8, 95.2, 99.3, 73.7, 58.6, 16.0, 2.7, 40.6, 11.5, 88.3, 24.5, 43.5, 83.4, 74.2, 44.9, 29.2, 2.3, 34.8, 96.1, 60.2, 61.4, 33.2, 67.1, 63.9, 17.1, 5.6, 40.7, 5.5, 44.6, 45.0, 54.9, 69.2, 94.1, 60.9, 67.8, 90.2, 39.2, 43.9, 44.0, 92.3, 69.2, 83.9, 38.5, 68.8, 6.5, 66.0, 44.8, 93.7, 81.0, 86.7, 60.5, 40.5, 82.6, 54.5, 79.1, 34.8, 41.8, 43.9, 23.6, 69.8, 51.1, 40.4, 82.1, 45.1, 84.6, 84.2, 85.6, 98.1, 55.7, 40.1, 3.8, 3.0, 21.8, 70.0, 79.5, 26.3, 54.1, 5.0, 53.8, 57.3, 76.7, 13.2, 28.7, 90.8, 90.1, 57.9, 88.4, 79.1, 78.7, 83.5, 45.2, 89.2, 70.0, 98.0, 52.1, 39.4, 49.1, 5.0, 50.0, 23.8, 84.1, 83.5, 16.8, 61.4, 95.0, 71.9, 13.2, 1.6, 64.6, 59.8, 31.6, 35.3, 3.3, 63.9, 22.5, 50.9, 0.8, 65.0, 0.1, 84.9, 4.8, 69.8, 97.6, 19.3, 33.6, 89.8, 80.6, 6.8, 42.7, 65.3, 22.2, 76.1, 50.1, 83.7, 11.6, 78.7, 79.3, 17.4, 25.9, 59.7, 39.6, 58.4, 53.3, 63.8, 78.0, 29.2, 17.4, 62.7, 99.9, 5.3, 27.8, 27.1, 46.7, 86.0, 87.1, 83.7, 78.9, 49.7, 73.3, 28.4, 78.0, 48.3, 13.4, 68.9, 53.1, 64.2, 80.1, 57.4, 19.6, 31.6, 47.1, 13.8, 68.9, 75.4, 73.1, 53.0, 63.8, 8.1, 4.2, 44.7, 69.0, 14.0, 99.9, 66.6, 40.2, 12.4, 43.0, 50.7, 37.9, 37.4, 92.1, 33.4, 52.5, 5.8, 2.3, 4.1, 78.0, 15.6, 77.4, 87.0, 69.7, 14.1, 60.5, 68.4, 56.2, 55.3, 62.6, 25.1, 75.8, 50.4, 8.3, 91.5, 23.7, 70.2, 51.8, 92.7, 6.9, 86.4, 37.3, 44.6, 4.1, 78.9, 65.4, 86.4, 12.0, 4.3, 53.1, 40.6, 15.2, 63.6, 51.1, 72.3, 31.7, 78.5, 76.9, 10.9, 47.4, 85.0, 15.4, 93.4, 98.9, 89.8, 42.6, 87.6, 13.9, 29.9, 29.6, 81.7, 98.0, 74.8, 75.9, 57.1, 5.8, 22.4, 1.0, 58.2, 34.2, 17.0, 79.2, 10.2, 82.7, 13.2, 27.6, 72.2, 87.5, 30.0, 32.0, 3.1, 15.7, 98.2, 61.6, 31.8, 10.0, 65.8, 37.3, 92.7, 74.1, 57.7, 75.6, 1.7, 16.1, 94.4, 8.6, 11.8, 72.3, 11.8, 26.7, 88.7, 98.8, 48.9, 77.7, 34.6, 78.0, 41.3, 42.8, 58.4, 79.4, 69.1, 48.9, 92.1, 54.1, 9.4, 83.8, 37.6, 92.6, 68.9, 37.2, 75.1, 61.3, 23.7, 75.1, 65.1, 44.5, 45.9, 71.1, 88.0, 82.3, 12.6, 18.9, 14.4, 14.6, 93.1, 30.0, 29.8, 61.1, 34.2, 10.8, 61.4, 89.4, 6.0, 67.7, 39.2, 44.0, 66.3, 52.8, 87.7, 15.0, 97.7, 79.8, 47.0, 13.0, 5.4, 67.3, 65.4, 15.7, 27.8, 26.4, 29.3, 21.1, 36.9, 31.9, 23.6, 0.1, 30.8, 80.2, 94.0, 76.1, 75.1, 66.7, 60.9, 5.7, 9.5, 32.4, 60.3, 33.2, 14.0, 3.8, 39.8, 28.9, 76.3, 11.4, 89.6, 62.8, 44.7, 41.0, 61.4, 18.9, 99.3, 54.1, 67.1, 54.5, 96.2, 24.2, 56.0, 54.5, 60.2, 88.8, 1.4, 15.2, 71.2, 26.5, 10.3, 30.8, 22.2, 96.3, 42.0, 21.9, 76.5, 26.3, 56.0, 43.8, 31.3, 52.3, 90.7, 1.4, 58.0, 25.1, 50.9, 66.5, 66.1, 19.1, 23.0, 33.8, 47.8, 28.0, 21.5, 53.9, 80.9, 2.4, 50.4, 49.1, 0.4, 46.2, 62.7, 90.7, 67.9, 79.1, 15.3, 91.4, 32.5, 71.5, 30.2, 42.7, 10.1, 68.0, 41.3, 7.1, 27.3, 39.8, 74.4, 31.3, 8.2, 16.7, 59.5, 85.3, 16.1, 35.9, 92.1, 62.5, 23.9, 46.9, 38.7, 94.0, 99.7, 17.7, 15.1, 59.5, 18.9, 25.3, 74.7, 38.5, 34.6, 98.8, 90.6, 40.9, 13.9, 35.7, 82.3, 86.9, 84.9, 76.4, 92.8, 77.3, 47.1, 12.2, 55.3, 8.6, 15.8, 93.9, 60.5, 22.6, 47.5, 40.3, 74.6, 97.6, 72.4, 20.8, 38.6, 79.0, 52.7, 76.1, 68.3, 69.4, 53.5, 99.2, 69.1, 92.0, 73.2, 9.2, 98.6, 14.9, 26.5, 22.1, 3.7, 8.4, 12.6, 16.7, 90.9, 42.9, 22.1, 49.9, 54.0, 78.9, 60.8, 26.9, 90.9, 86.2, 11.3, 61.1, 21.4, 48.2, 87.3, 71.7, 38.6, 13.3, 26.2, 37.9, 78.4, 69.2, 50.6, 52.4, 40.7, 51.8, 85.7, 76.0, 11.7, 76.5, 64.2, 42.3, 47.4, 33.1, 83.5, 89.8, 58.6, 13.8, 88.0, 55.0, 79.9, 51.5, 19.5, 1.3, 53.5, 78.8, 87.0, 79.4, 90.6, 47.3, 99.0, 82.5, 14.8, 13.5, 98.8, 63.3, 68.0, 30.9, 62.0, 71.8, 39.1, 52.6, 82.4, 37.3, 79.4, 44.2, 4.9, 90.8, 58.3, 87.2, 11.2, 16.9, 74.8, 28.4, 80.9, 32.6, 48.3, 47.7, 33.8, 32.0, 15.7, 23.6, 87.7, 49.7, 6.5, 3.1, 96.2, 28.1, 98.1, 18.6, 17.9, 73.9, 84.2, 30.0, 47.3, 41.7, 69.0, 40.2, 57.3, 43.4, 13.6, 59.5, 53.3, 2.8, 83.6, 77.1, 46.2, 16.2, 93.6, 30.3, 17.3, 56.8, 32.3, 91.0, 25.5, 8.1, 80.0, 97.4, 30.7, 86.0, 74.0, 88.7, 72.9, 67.8, 96.9, 76.2, 57.5, 46.2, 20.8, 83.4, 88.6, 95.5, 5.1, 32.9, 66.1, 76.6, 51.4, 88.9, 59.5, 62.7, 67.8, 26.6, 32.2, 76.6, 92.1, 70.9, 7.0, 10.2, 5.6, 24.2, 60.7, 23.4, 19.2, 51.3, 83.9, 94.7, 43.8, 26.2, 91.9, 81.1, 18.2, 83.6, 9.2, 22.8, 79.1, 55.7, 84.9, 8.6, 84.8, 51.5, 60.9, 45.1, 33.2, 45.7, 92.4, 91.7, 58.7, 51.6, 97.3, 62.0, 34.2, 7.5, 8.5, 53.7, 40.2, 24.8, 26.8, 2.5, 57.6, 4.4, 49.4, 47.0, 64.5, 29.9, 73.0, 26.2, 10.3, 96.4, 30.5, 63.2, 84.7, 12.9, 49.1, 97.3, 81.8, 25.4, 59.0, 79.2, 15.0, 7.1, 79.9, 86.1, 32.8, 12.6, 11.5, 74.1, 47.8, 0.2, 49.7, 77.4, 75.0, 76.1, 76.7, 55.0, 71.8, 45.5, 92.3, 60.1, 12.7, 68.5, 81.3, 19.9, 63.9, 59.5, 42.5, 90.5, 69.4, 80.8, 30.2, 21.6, 54.2, 13.0, 71.1, 9.4, 22.1, 9.8, 17.7, 87.9, 27.8, 79.3, 83.6, 83.9, 16.0, 43.2, 57.2, 48.3, 29.3, 71.2, 32.2, 14.4, 13.9, 85.6, 68.1, 40.6, 86.0, 34.8, 59.8, 21.3, 34.8, 35.9, 93.1, 82.4, 8.0, 35.2, 80.5, 0.3, 31.8, 76.6, 70.2, 66.0, 63.3, 78.2, 68.6, 58.7, 70.2, 46.5, 70.5, 62.9, 68.2, 72.4, 42.8, 53.5, 90.4, 45.2, 0.5, 30.6, 37.3, 80.1, 53.6, 62.7, 26.4, 43.6, 49.1, 49.6, 82.1, 73.3, 65.0, 54.7, 81.6, 21.7, 61.5, 30.7, 37.7, 7.4, 48.6, 20.7, 98.9, 72.4, 20.4, 16.7, 53.9, 96.7, 59.1, 95.7, 62.5, 32.9, 32.3, 15.3, 46.0, 89.1, 38.8, 68.0, 20.0, 28.3, 47.4, 51.9, 24.5, 39.3, 68.9, 31.7, 59.2, 1.6, 8.4, 42.8, 52.2, 87.5, 99.5, 78.3, 60.7, 62.6, 60.4, 6.6, 58.6, 88.4, 98.9, 45.8, 44.1, 61.0, 5.0, 84.2, 54.8, 12.5, 92.9, 45.1, 40.7, 24.4, 56.1, 50.8, 18.3, 35.2, 73.1, 57.4, 69.0, 69.9, 23.1, 81.8, 40.1, 30.2, 40.0, 42.9, 56.5, 55.3, 39.0, 74.3, 35.0, 13.8, 30.4, 49.2, 30.1, 18.7, 31.0, 9.0, 83.7, 67.7, 62.4, 29.8, 89.1, 54.7, 66.3, 80.7, 10.5, 43.6, 76.3, 69.7, 14.3, 24.0, 88.8, 98.4, 94.8, 52.4, 37.5, 21.4, 42.9, 11.1, 57.3, 92.8, 70.5, 80.5, 11.6, 39.5, 30.2, 8.3, 93.9, 15.9, 32.4, 71.9, 40.2, 99.6, 7.5, 34.6, 71.3, 1.5, 91.9, 30.3, 64.4, 68.0, 52.5, 34.3, 23.2, 65.0], \"xaxis\": \"x\", \"y\": [0, 0, 0, 0, 0, 0, 1, 0, 0, 0, 0, 0, 0, 0, 0, 0, 0, 0, 0, 0, 0, 1, 0, 1, 1, 0, 0, 1, 0, 0, 0, 0, 0, 0, 0, 0, 0, 0, 0, 0, 0, 1, 1, 0, 0, 0, 0, 0, 0, 0, 1, 0, 0, 0, 1, 1, 0, 0, 0, 0, 0, 0, 1, 0, 0, 1, 0, 0, 0, 0, 0, 1, 0, 0, 0, 0, 0, 0, 0, 0, 0, 0, 0, 0, 0, 1, 0, 0, 1, 0, 0, 0, 1, 0, 1, 0, 0, 0, 0, 0, 1, 0, 1, 0, 0, 0, 0, 0, 0, 0, 0, 0, 0, 0, 0, 0, 0, 1, 1, 1, 1, 0, 0, 0, 0, 0, 0, 0, 0, 0, 0, 0, 0, 0, 0, 0, 1, 1, 0, 1, 0, 0, 1, 0, 1, 0, 1, 0, 0, 0, 0, 0, 0, 1, 1, 0, 0, 1, 0, 0, 0, 0, 0, 0, 0, 0, 0, 0, 0, 0, 0, 0, 1, 0, 0, 1, 0, 0, 1, 0, 0, 0, 0, 0, 0, 0, 1, 0, 0, 0, 0, 0, 0, 0, 0, 0, 0, 0, 0, 0, 0, 1, 0, 0, 0, 0, 1, 1, 1, 0, 0, 0, 0, 0, 0, 0, 0, 0, 0, 0, 0, 0, 0, 0, 0, 0, 0, 0, 0, 0, 0, 0, 0, 0, 0, 1, 0, 0, 0, 0, 0, 0, 0, 1, 0, 0, 0, 0, 0, 0, 0, 0, 1, 0, 0, 0, 0, 0, 0, 0, 0, 0, 0, 0, 1, 0, 0, 0, 1, 0, 1, 0, 0, 0, 0, 0, 1, 0, 0, 0, 0, 0, 0, 0, 0, 0, 0, 0, 0, 0, 1, 0, 1, 1, 1, 0, 1, 0, 0, 0, 0, 1, 0, 0, 0, 0, 0, 0, 0, 0, 0, 0, 0, 0, 0, 0, 0, 1, 0, 0, 0, 0, 1, 0, 0, 0, 0, 0, 1, 0, 0, 0, 0, 0, 1, 0, 0, 0, 0, 0, 1, 1, 0, 0, 0, 0, 0, 0, 0, 0, 0, 0, 1, 0, 0, 1, 0, 1, 0, 0, 0, 0, 0, 0, 0, 0, 0, 0, 1, 0, 0, 0, 0, 0, 1, 0, 0, 0, 0, 0, 0, 1, 0, 0, 0, 0, 0, 0, 1, 0, 1, 0, 0, 0, 0, 0, 0, 0, 0, 0, 0, 0, 0, 0, 0, 0, 0, 0, 1, 0, 0, 0, 0, 0, 0, 0, 0, 0, 0, 0, 0, 0, 0, 0, 1, 0, 0, 0, 0, 0, 1, 0, 0, 0, 1, 0, 0, 0, 0, 1, 0, 0, 0, 0, 0, 0, 0, 1, 0, 0, 0, 0, 0, 0, 0, 0, 1, 0, 0, 0, 0, 0, 0, 0, 0, 0, 0, 0, 0, 0, 0, 0, 0, 0, 0, 0, 0, 1, 0, 0, 0, 1, 0, 0, 0, 0, 0, 0, 0, 0, 0, 0, 0, 0, 0, 0, 0, 1, 0, 0, 1, 0, 0, 0, 0, 1, 1, 0, 0, 0, 0, 0, 0, 0, 0, 1, 1, 0, 0, 0, 0, 1, 1, 0, 1, 0, 0, 0, 0, 0, 0, 1, 0, 0, 0, 0, 0, 1, 0, 0, 0, 0, 0, 0, 0, 0, 0, 1, 0, 1, 0, 0, 1, 0, 0, 0, 0, 0, 0, 0, 1, 0, 0, 0, 0, 0, 0, 0, 1, 1, 0, 0, 0, 0, 1, 0, 0, 0, 0, 0, 0, 0, 0, 0, 0, 0, 1, 0, 0, 0, 0, 0, 0, 0, 1, 1, 0, 0, 1, 0, 0, 0, 0, 0, 0, 0, 1, 0, 1, 0, 1, 0, 0, 0, 1, 0, 0, 0, 0, 0, 0, 0, 0, 0, 0, 0, 0, 1, 0, 1, 0, 0, 0, 0, 0, 0, 0, 0, 0, 0, 0, 0, 1, 0, 0, 0, 1, 0, 1, 0, 0, 0, 1, 0, 0, 0, 0, 0, 0, 0, 0, 0, 0, 0, 1, 0, 0, 0, 1, 0, 0, 0, 0, 1, 0, 0, 0, 1, 0, 1, 0, 1, 0, 0, 1, 0, 0, 0, 0, 1, 1, 1, 0, 0, 0, 0, 0, 1, 0, 0, 0, 0, 0, 0, 1, 0, 0, 0, 0, 0, 0, 0, 0, 0, 1, 1, 0, 0, 1, 0, 0, 1, 0, 0, 0, 0, 1, 0, 1, 0, 0, 0, 0, 0, 1, 1, 0, 0, 1, 0, 0, 0, 0, 0, 0, 0, 0, 0, 0, 0, 0, 0, 0, 0, 0, 0, 0, 1, 0, 0, 1, 0, 0, 1, 0, 0, 0, 0, 0, 0, 0, 1, 0, 0, 0, 0, 0, 0, 0, 0, 0, 0, 0, 0, 0, 0, 1, 0, 0, 0, 0, 0, 0, 0, 0, 1, 0, 0, 0, 0, 0, 0, 0, 0, 0, 0, 0, 1, 0, 0, 1, 1, 0, 0, 0, 0, 0, 0, 0, 0, 0, 1, 0, 0, 1, 0, 0, 0, 0, 0, 1, 0, 0, 0, 0, 0, 0, 0, 0, 0, 0, 0, 0, 0, 0, 0, 0, 0, 0, 0, 0, 0, 1, 0, 0, 0, 0, 0, 0, 0, 0, 0, 0, 0, 0, 0, 0, 0, 0, 0, 0, 0, 0, 0, 0, 0, 1, 0, 0, 0, 0, 1, 0, 1, 0, 0, 0, 0, 0, 1, 0, 0, 0, 0, 0, 0, 0, 0, 0, 0, 0, 0, 0, 0, 0, 1, 1, 0, 0, 0, 0, 0, 0, 1, 1, 0, 0, 0, 0, 1, 0, 0, 1, 0, 0, 0, 0, 0, 0, 0, 0, 0, 0, 0, 0, 0, 0, 0, 0, 0, 0, 0, 0, 0, 0, 0, 0, 0, 0, 0, 0, 0, 1, 0, 0, 0, 1, 0, 0, 0, 0, 0, 0, 0, 0, 0, 1, 1, 1, 0, 0, 0, 0, 0, 0, 1, 0, 0, 0, 0, 0, 0, 1, 0, 0, 0, 0, 1, 0, 0, 0, 0, 1, 0, 0, 0, 0, 0, 0, 0], \"yaxis\": \"y\"}],\n",
              "                        {\"legend\": {\"tracegroupgap\": 0}, \"margin\": {\"t\": 60}, \"shapes\": [{\"type\": \"line\", \"x0\": 0.1, \"x1\": 99.9, \"y0\": -0.2594877338281666, \"y1\": 0.5665966929093215}], \"template\": {\"data\": {\"bar\": [{\"error_x\": {\"color\": \"#2a3f5f\"}, \"error_y\": {\"color\": \"#2a3f5f\"}, \"marker\": {\"line\": {\"color\": \"#E5ECF6\", \"width\": 0.5}}, \"type\": \"bar\"}], \"barpolar\": [{\"marker\": {\"line\": {\"color\": \"#E5ECF6\", \"width\": 0.5}}, \"type\": \"barpolar\"}], \"carpet\": [{\"aaxis\": {\"endlinecolor\": \"#2a3f5f\", \"gridcolor\": \"white\", \"linecolor\": \"white\", \"minorgridcolor\": \"white\", \"startlinecolor\": \"#2a3f5f\"}, \"baxis\": {\"endlinecolor\": \"#2a3f5f\", \"gridcolor\": \"white\", \"linecolor\": \"white\", \"minorgridcolor\": \"white\", \"startlinecolor\": \"#2a3f5f\"}, \"type\": \"carpet\"}], \"choropleth\": [{\"colorbar\": {\"outlinewidth\": 0, \"ticks\": \"\"}, \"type\": \"choropleth\"}], \"contour\": [{\"colorbar\": {\"outlinewidth\": 0, \"ticks\": \"\"}, \"colorscale\": [[0.0, \"#0d0887\"], [0.1111111111111111, \"#46039f\"], [0.2222222222222222, \"#7201a8\"], [0.3333333333333333, \"#9c179e\"], [0.4444444444444444, \"#bd3786\"], [0.5555555555555556, \"#d8576b\"], [0.6666666666666666, \"#ed7953\"], [0.7777777777777778, \"#fb9f3a\"], [0.8888888888888888, \"#fdca26\"], [1.0, \"#f0f921\"]], \"type\": \"contour\"}], \"contourcarpet\": [{\"colorbar\": {\"outlinewidth\": 0, \"ticks\": \"\"}, \"type\": \"contourcarpet\"}], \"heatmap\": [{\"colorbar\": {\"outlinewidth\": 0, \"ticks\": \"\"}, \"colorscale\": [[0.0, \"#0d0887\"], [0.1111111111111111, \"#46039f\"], [0.2222222222222222, \"#7201a8\"], [0.3333333333333333, \"#9c179e\"], [0.4444444444444444, \"#bd3786\"], [0.5555555555555556, \"#d8576b\"], [0.6666666666666666, \"#ed7953\"], [0.7777777777777778, \"#fb9f3a\"], [0.8888888888888888, \"#fdca26\"], [1.0, \"#f0f921\"]], \"type\": \"heatmap\"}], \"heatmapgl\": [{\"colorbar\": {\"outlinewidth\": 0, \"ticks\": \"\"}, \"colorscale\": [[0.0, \"#0d0887\"], [0.1111111111111111, \"#46039f\"], [0.2222222222222222, \"#7201a8\"], [0.3333333333333333, \"#9c179e\"], [0.4444444444444444, \"#bd3786\"], [0.5555555555555556, \"#d8576b\"], [0.6666666666666666, \"#ed7953\"], [0.7777777777777778, \"#fb9f3a\"], [0.8888888888888888, \"#fdca26\"], [1.0, \"#f0f921\"]], \"type\": \"heatmapgl\"}], \"histogram\": [{\"marker\": {\"colorbar\": {\"outlinewidth\": 0, \"ticks\": \"\"}}, \"type\": \"histogram\"}], \"histogram2d\": [{\"colorbar\": {\"outlinewidth\": 0, \"ticks\": \"\"}, \"colorscale\": [[0.0, \"#0d0887\"], [0.1111111111111111, \"#46039f\"], [0.2222222222222222, \"#7201a8\"], [0.3333333333333333, \"#9c179e\"], [0.4444444444444444, \"#bd3786\"], [0.5555555555555556, \"#d8576b\"], [0.6666666666666666, \"#ed7953\"], [0.7777777777777778, \"#fb9f3a\"], [0.8888888888888888, \"#fdca26\"], [1.0, \"#f0f921\"]], \"type\": \"histogram2d\"}], \"histogram2dcontour\": [{\"colorbar\": {\"outlinewidth\": 0, \"ticks\": \"\"}, \"colorscale\": [[0.0, \"#0d0887\"], [0.1111111111111111, \"#46039f\"], [0.2222222222222222, \"#7201a8\"], [0.3333333333333333, \"#9c179e\"], [0.4444444444444444, \"#bd3786\"], [0.5555555555555556, \"#d8576b\"], [0.6666666666666666, \"#ed7953\"], [0.7777777777777778, \"#fb9f3a\"], [0.8888888888888888, \"#fdca26\"], [1.0, \"#f0f921\"]], \"type\": \"histogram2dcontour\"}], \"mesh3d\": [{\"colorbar\": {\"outlinewidth\": 0, \"ticks\": \"\"}, \"type\": \"mesh3d\"}], \"parcoords\": [{\"line\": {\"colorbar\": {\"outlinewidth\": 0, \"ticks\": \"\"}}, \"type\": \"parcoords\"}], \"pie\": [{\"automargin\": true, \"type\": \"pie\"}], \"scatter\": [{\"marker\": {\"colorbar\": {\"outlinewidth\": 0, \"ticks\": \"\"}}, \"type\": \"scatter\"}], \"scatter3d\": [{\"line\": {\"colorbar\": {\"outlinewidth\": 0, \"ticks\": \"\"}}, \"marker\": {\"colorbar\": {\"outlinewidth\": 0, \"ticks\": \"\"}}, \"type\": \"scatter3d\"}], \"scattercarpet\": [{\"marker\": {\"colorbar\": {\"outlinewidth\": 0, \"ticks\": \"\"}}, \"type\": \"scattercarpet\"}], \"scattergeo\": [{\"marker\": {\"colorbar\": {\"outlinewidth\": 0, \"ticks\": \"\"}}, \"type\": \"scattergeo\"}], \"scattergl\": [{\"marker\": {\"colorbar\": {\"outlinewidth\": 0, \"ticks\": \"\"}}, \"type\": \"scattergl\"}], \"scattermapbox\": [{\"marker\": {\"colorbar\": {\"outlinewidth\": 0, \"ticks\": \"\"}}, \"type\": \"scattermapbox\"}], \"scatterpolar\": [{\"marker\": {\"colorbar\": {\"outlinewidth\": 0, \"ticks\": \"\"}}, \"type\": \"scatterpolar\"}], \"scatterpolargl\": [{\"marker\": {\"colorbar\": {\"outlinewidth\": 0, \"ticks\": \"\"}}, \"type\": \"scatterpolargl\"}], \"scatterternary\": [{\"marker\": {\"colorbar\": {\"outlinewidth\": 0, \"ticks\": \"\"}}, \"type\": \"scatterternary\"}], \"surface\": [{\"colorbar\": {\"outlinewidth\": 0, \"ticks\": \"\"}, \"colorscale\": [[0.0, \"#0d0887\"], [0.1111111111111111, \"#46039f\"], [0.2222222222222222, \"#7201a8\"], [0.3333333333333333, \"#9c179e\"], [0.4444444444444444, \"#bd3786\"], [0.5555555555555556, \"#d8576b\"], [0.6666666666666666, \"#ed7953\"], [0.7777777777777778, \"#fb9f3a\"], [0.8888888888888888, \"#fdca26\"], [1.0, \"#f0f921\"]], \"type\": \"surface\"}], \"table\": [{\"cells\": {\"fill\": {\"color\": \"#EBF0F8\"}, \"line\": {\"color\": \"white\"}}, \"header\": {\"fill\": {\"color\": \"#C8D4E3\"}, \"line\": {\"color\": \"white\"}}, \"type\": \"table\"}]}, \"layout\": {\"annotationdefaults\": {\"arrowcolor\": \"#2a3f5f\", \"arrowhead\": 0, \"arrowwidth\": 1}, \"coloraxis\": {\"colorbar\": {\"outlinewidth\": 0, \"ticks\": \"\"}}, \"colorscale\": {\"diverging\": [[0, \"#8e0152\"], [0.1, \"#c51b7d\"], [0.2, \"#de77ae\"], [0.3, \"#f1b6da\"], [0.4, \"#fde0ef\"], [0.5, \"#f7f7f7\"], [0.6, \"#e6f5d0\"], [0.7, \"#b8e186\"], [0.8, \"#7fbc41\"], [0.9, \"#4d9221\"], [1, \"#276419\"]], \"sequential\": [[0.0, \"#0d0887\"], [0.1111111111111111, \"#46039f\"], [0.2222222222222222, \"#7201a8\"], [0.3333333333333333, \"#9c179e\"], [0.4444444444444444, \"#bd3786\"], [0.5555555555555556, \"#d8576b\"], [0.6666666666666666, \"#ed7953\"], [0.7777777777777778, \"#fb9f3a\"], [0.8888888888888888, \"#fdca26\"], [1.0, \"#f0f921\"]], \"sequentialminus\": [[0.0, \"#0d0887\"], [0.1111111111111111, \"#46039f\"], [0.2222222222222222, \"#7201a8\"], [0.3333333333333333, \"#9c179e\"], [0.4444444444444444, \"#bd3786\"], [0.5555555555555556, \"#d8576b\"], [0.6666666666666666, \"#ed7953\"], [0.7777777777777778, \"#fb9f3a\"], [0.8888888888888888, \"#fdca26\"], [1.0, \"#f0f921\"]]}, \"colorway\": [\"#636efa\", \"#EF553B\", \"#00cc96\", \"#ab63fa\", \"#FFA15A\", \"#19d3f3\", \"#FF6692\", \"#B6E880\", \"#FF97FF\", \"#FECB52\"], \"font\": {\"color\": \"#2a3f5f\"}, \"geo\": {\"bgcolor\": \"white\", \"lakecolor\": \"white\", \"landcolor\": \"#E5ECF6\", \"showlakes\": true, \"showland\": true, \"subunitcolor\": \"white\"}, \"hoverlabel\": {\"align\": \"left\"}, \"hovermode\": \"closest\", \"mapbox\": {\"style\": \"light\"}, \"paper_bgcolor\": \"white\", \"plot_bgcolor\": \"#E5ECF6\", \"polar\": {\"angularaxis\": {\"gridcolor\": \"white\", \"linecolor\": \"white\", \"ticks\": \"\"}, \"bgcolor\": \"#E5ECF6\", \"radialaxis\": {\"gridcolor\": \"white\", \"linecolor\": \"white\", \"ticks\": \"\"}}, \"scene\": {\"xaxis\": {\"backgroundcolor\": \"#E5ECF6\", \"gridcolor\": \"white\", \"gridwidth\": 2, \"linecolor\": \"white\", \"showbackground\": true, \"ticks\": \"\", \"zerolinecolor\": \"white\"}, \"yaxis\": {\"backgroundcolor\": \"#E5ECF6\", \"gridcolor\": \"white\", \"gridwidth\": 2, \"linecolor\": \"white\", \"showbackground\": true, \"ticks\": \"\", \"zerolinecolor\": \"white\"}, \"zaxis\": {\"backgroundcolor\": \"#E5ECF6\", \"gridcolor\": \"white\", \"gridwidth\": 2, \"linecolor\": \"white\", \"showbackground\": true, \"ticks\": \"\", \"zerolinecolor\": \"white\"}}, \"shapedefaults\": {\"line\": {\"color\": \"#2a3f5f\"}}, \"ternary\": {\"aaxis\": {\"gridcolor\": \"white\", \"linecolor\": \"white\", \"ticks\": \"\"}, \"baxis\": {\"gridcolor\": \"white\", \"linecolor\": \"white\", \"ticks\": \"\"}, \"bgcolor\": \"#E5ECF6\", \"caxis\": {\"gridcolor\": \"white\", \"linecolor\": \"white\", \"ticks\": \"\"}}, \"title\": {\"x\": 0.05}, \"xaxis\": {\"automargin\": true, \"gridcolor\": \"white\", \"linecolor\": \"white\", \"ticks\": \"\", \"title\": {\"standoff\": 15}, \"zerolinecolor\": \"white\", \"zerolinewidth\": 2}, \"yaxis\": {\"automargin\": true, \"gridcolor\": \"white\", \"linecolor\": \"white\", \"ticks\": \"\", \"title\": {\"standoff\": 15}, \"zerolinecolor\": \"white\", \"zerolinewidth\": 2}}}, \"xaxis\": {\"anchor\": \"y\", \"domain\": [0.0, 1.0], \"title\": {\"text\": \"x\"}}, \"yaxis\": {\"anchor\": \"x\", \"domain\": [0.0, 1.0], \"title\": {\"text\": \"y\"}}},\n",
              "                        {\"responsive\": true}\n",
              "                    ).then(function(){\n",
              "                            \n",
              "var gd = document.getElementById('db9706f3-e7bf-486d-a9aa-e454c661de72');\n",
              "var x = new MutationObserver(function (mutations, observer) {{\n",
              "        var display = window.getComputedStyle(gd).display;\n",
              "        if (!display || display === 'none') {{\n",
              "            console.log([gd, 'removed!']);\n",
              "            Plotly.purge(gd);\n",
              "            observer.disconnect();\n",
              "        }}\n",
              "}});\n",
              "\n",
              "// Listen for the removal of the full notebook cells\n",
              "var notebookContainer = gd.closest('#notebook-container');\n",
              "if (notebookContainer) {{\n",
              "    x.observe(notebookContainer, {childList: true});\n",
              "}}\n",
              "\n",
              "// Listen for the clearing of the current output cell\n",
              "var outputEl = gd.closest('.output');\n",
              "if (outputEl) {{\n",
              "    x.observe(outputEl, {childList: true});\n",
              "}}\n",
              "\n",
              "                        })\n",
              "                };\n",
              "                \n",
              "            </script>\n",
              "        </div>\n",
              "</body>\n",
              "</html>"
            ]
          },
          "metadata": {
            "tags": []
          }
        }
      ]
    },
    {
      "cell_type": "code",
      "metadata": {
        "colab": {
          "base_uri": "https://localhost:8080/",
          "height": 347
        },
        "id": "a6RC-GKbBTfX",
        "outputId": "490df1bd-31c1-4ec1-8de4-e651735ab123"
      },
      "source": [
        "#Sigmoid\n",
        "import matplotlib.pyplot as plt\n",
        "from sklearn.linear_model import LogisticRegression\n",
        "X=np.reshape(score,(len(score),1))\n",
        "Y=np.reshape(accepted,(len(score),1))\n",
        "lr=LogisticRegression()\n",
        "lr.fit(X,Y)\n",
        "\n",
        "plt.figure()\n",
        "plt.scatter(X.ravel(),Y,color=\"purple\",zorder=20)\n",
        "def model(x):\n",
        "  return 1/(1+np.exp(-x))\n",
        "X_test=np.linspace(0,100,200)\n",
        "chances=model(X_test*lr.coef_+lr.intercept_).ravel()\n",
        "\n",
        "plt.plot(X_test,chances,color=\"red\",linewidth=3)\n",
        "plt.axhline(y=0,color=\"blue\",linestyle=\"-\")\n",
        "plt.axhline(y=1,color=\"cyan\",linestyle=\"-\")\n",
        "plt.axhline(y=0.5,color=\"black\",linestyle=\"--\")\n",
        "plt.axvline(x=X_test[165],color=\"purple\",linestyle=\"--\")\n",
        "plt.ylabel(\"y\")\n",
        "plt.xlabel(\"x\")\n",
        "plt.xlim(75,85)\n",
        "plt.show()"
      ],
      "execution_count": null,
      "outputs": [
        {
          "output_type": "stream",
          "text": [
            "/usr/local/lib/python3.7/dist-packages/sklearn/utils/validation.py:760: DataConversionWarning:\n",
            "\n",
            "A column-vector y was passed when a 1d array was expected. Please change the shape of y to (n_samples, ), for example using ravel().\n",
            "\n"
          ],
          "name": "stderr"
        },
        {
          "output_type": "display_data",
          "data": {
            "image/png": "[encoded data removed]",
            "text/plain": [
              "<Figure size 432x288 with 1 Axes>"
            ]
          },
          "metadata": {
            "tags": [],
            "needs_background": "light"
          }
        }
      ]
    },
    {
      "cell_type": "code",
      "metadata": {
        "colab": {
          "base_uri": "https://localhost:8080/"
        },
        "id": "kuuW7-JNE_1b",
        "outputId": "b5051fe8-c13f-4da0-ab04-2a0a08c2b258"
      },
      "source": [
        "user_score=float(input(\"Enter Your Marks Here\"))\n",
        "chances=model(user_score*lr.coef_+lr.intercept_).ravel()[0]\n",
        "if chances<0.01:\n",
        "  print(\"The Student Will Not Get Accepted\")\n",
        "elif chances>=1:\n",
        "  print(\"The Student Will Get Accepted\")\n",
        "elif chances<0.5:\n",
        "  print(\"The Student Might Not Get Accepted\")\n",
        "else:\n",
        "  print(\"The Student May Get Accepted\")"
      ],
      "execution_count": null,
      "outputs": [
        {
          "output_type": "stream",
          "text": [
            "Enter Your Marks Here75\n",
            "The Student Will Not Get Accepted\n"
          ],
          "name": "stdout"
        }
      ]
    }
  ]
}